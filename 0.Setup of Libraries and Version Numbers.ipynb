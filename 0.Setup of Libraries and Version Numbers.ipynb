{
 "metadata": {
  "name": "",
  "signature": "sha256:acd107b73271896a8a9860cddaa70e644ab83247b4f376e5c81e43945682f2a0"
 },
 "nbformat": 3,
 "nbformat_minor": 0,
 "worksheets": [
  {
   "cells": [
    {
     "cell_type": "markdown",
     "metadata": {},
     "source": [
      "In order to have the plots inside of the notebook:"
     ]
    },
    {
     "cell_type": "code",
     "collapsed": false,
     "input": [
      "%matplotlib inline"
     ],
     "language": "python",
     "metadata": {},
     "outputs": [],
     "prompt_number": 2
    },
    {
     "cell_type": "code",
     "collapsed": false,
     "input": [
      "import matplotlib as mlp\n",
      "import matplotlib.pyplot as plt\n",
      "import numpy as np\n",
      "import pandas as pd\n",
      "import sklearn\n",
      "import scipy\n",
      "\n",
      "\n",
      "print(np.__version__)\n",
      "print(mlp.__version__)\n",
      "print(pd.__version__)\n",
      "print(sklearn.__version__)\n",
      "print(scipy.__version__)\n"
     ],
     "language": "python",
     "metadata": {},
     "outputs": [
      {
       "output_type": "stream",
       "stream": "stdout",
       "text": [
        "1.9.0\n",
        "1.4.0\n",
        "0.14.1\n",
        "0.15.2\n",
        "0.14.0\n"
       ]
      }
     ],
     "prompt_number": 3
    },
    {
     "cell_type": "code",
     "collapsed": false,
     "input": [
      "assert np.__version__ == '1.9.0'\n",
      "assert mlp.__version__ == '1.4.0'\n",
      "assert pd.__version__ == '0.14.1'\n",
      "assert sklearn.__version__ == '0.15.2'\n",
      "assert scipy.__version__ == '0.14.0'"
     ],
     "language": "python",
     "metadata": {},
     "outputs": [],
     "prompt_number": 4
    }
   ],
   "metadata": {}
  }
 ]
}