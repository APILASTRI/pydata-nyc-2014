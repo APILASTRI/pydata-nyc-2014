{
 "metadata": {
  "name": "",
  "signature": "sha256:df76979cefc7c2ed2de952ab01badc5bea7913d7dd13f3ed93e363c9c3f99926"
 },
 "nbformat": 3,
 "nbformat_minor": 0,
 "worksheets": [
  {
   "cells": [
    {
     "cell_type": "markdown",
     "metadata": {},
     "source": [
      "## Machine Learning"
     ]
    },
    {
     "cell_type": "markdown",
     "metadata": {},
     "source": [
      "> Machine learning is to be able to write programs with data without explicitly writing it."
     ]
    },
    {
     "cell_type": "markdown",
     "metadata": {},
     "source": [
      "## Motivation"
     ]
    },
    {
     "cell_type": "markdown",
     "metadata": {},
     "source": [
      "### No more heuristics and rules"
     ]
    },
    {
     "cell_type": "code",
     "collapsed": false,
     "input": [
      "## HR Article classification Schema without ML\n",
      "\n",
      "### HR article keywords\n",
      "if 'hire' in text or 'hiring' in text or 'join' or 'joining' in text or 'laying off' in text or 'resign' in text:   \n",
      "    confidence += 1\n",
      "\n",
      "# Job titles are definitely good again, HR articles generally say the position of the new hire\n",
      "for job_title in job_titles:\n",
      "  if job_title in text:\n",
      "    confidence += 10\n",
      "\n",
      "# If we have company name, that is a good sign as article could be in business domain\n",
      "for company_name in company_names:\n",
      "    if company_name in text:\n",
      "        confidence += 10\n",
      "label = 0\n",
      "if confidence > THRESHOLD:\n",
      "    label = 1 # It is an hr article"
     ],
     "language": "python",
     "metadata": {},
     "outputs": []
    },
    {
     "cell_type": "markdown",
     "metadata": {},
     "source": [
      "### But data"
     ]
    },
    {
     "cell_type": "code",
     "collapsed": false,
     "input": [
      "# Given trained classifier, vectorizer and feature selection method\n",
      "# This is how one may classify an article in Scikit-learn(assuming the classifier is also trained on labeled data)\n",
      "## Convert into a vector\n",
      "count = vectorizer.transform(np.asarray(text).toarray())\n",
      "## Do feature selection\n",
      "selected_feats = feat_selector.transform(count)\n",
      "## Algorithm to classify\n",
      "pred_class = clf.predict(selected_feats)"
     ],
     "language": "python",
     "metadata": {},
     "outputs": []
    },
    {
     "cell_type": "markdown",
     "metadata": {},
     "source": [
      "### Generalization\n",
      "> We need to learn small amount of data and induce from it; generalize over much larger datasets by using that knowledge."
     ]
    },
    {
     "cell_type": "code",
     "collapsed": false,
     "input": [],
     "language": "python",
     "metadata": {},
     "outputs": []
    },
    {
     "cell_type": "markdown",
     "metadata": {},
     "source": [
      "### Data\n",
      "Data does replace heuristics, hard-coded rules, assumptions and beliefs. Machine learning only enables data to do that."
     ]
    },
    {
     "cell_type": "code",
     "collapsed": false,
     "input": [],
     "language": "python",
     "metadata": {},
     "outputs": []
    }
   ],
   "metadata": {}
  }
 ]
}