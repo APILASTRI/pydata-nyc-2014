{
 "metadata": {
  "name": "",
  "signature": "sha256:a8f68e0242ca8cff1ae5289a921ca82b2867e4dd4a2619dd226ca5d6007532ce"
 },
 "nbformat": 3,
 "nbformat_minor": 0,
 "worksheets": [
  {
   "cells": [
    {
     "cell_type": "markdown",
     "metadata": {},
     "source": [
      "### Go through these tutorials by yourself as well.\n",
      "- [Basic Tutorial - ScikitLearn](http://scikit-learn.org/stable/tutorial/basic/tutorial.html)\n",
      "- [Tutorial - ScikitLearn](http://scikit-learn.org/stable/tutorial/)\n",
      "- [Statistical Learning Tutorial - ScikitLearn](http://scikit-learn.org/stable/tutorial/statistical_inference/)"
     ]
    }
   ],
   "metadata": {}
  }
 ]
}