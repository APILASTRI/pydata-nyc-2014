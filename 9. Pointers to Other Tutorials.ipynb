{
 "metadata": {
  "name": "",
  "signature": "sha256:03104a5a3b3b75dfff220579f81de0e49dd1979ed407fe45d247bf1543a45fe0"
 },
 "nbformat": 3,
 "nbformat_minor": 0,
 "worksheets": [
  {
   "cells": [
    {
     "cell_type": "markdown",
     "metadata": {},
     "source": [
      "### Go through these tutorials by yourself as well.\n",
      "- [Basic Tutorial - ScikitLearn](http://scikit-learn.org/stable/tutorial/basic/tutorial.html)\n",
      "- [Tutorial - ScikitLearn](http://scikit-learn.org/stable/tutorial/)\n",
      "- [Statistical Learning Tutorial - ScikitLearn](http://scikit-learn.org/stable/tutorial/statistical_inference/)"
     ]
    }
   ],
   "metadata": {}
  }
 ]
}