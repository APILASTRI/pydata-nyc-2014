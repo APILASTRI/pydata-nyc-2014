{
 "metadata": {
  "name": "",
  "signature": "sha256:3ad0742daec738155fac1503b42a11307bd074fb840994c03fc27e06e714306b"
 },
 "nbformat": 3,
 "nbformat_minor": 0,
 "worksheets": [
  {
   "cells": [
    {
     "cell_type": "code",
     "collapsed": false,
     "input": [
      "%matplotlib inline\n",
      "import csv\n",
      "import matplotlib.pyplot as plt\n",
      "import numpy as np\n",
      "import os\n",
      "from sklearn import cross_validation\n",
      "from sklearn import ensemble\n",
      "from sklearn.feature_extraction import text\n",
      "from sklearn import feature_extraction\n",
      "from sklearn import feature_selection\n",
      "from sklearn import linear_model\n",
      "from sklearn import metrics\n",
      "from sklearn import naive_bayes\n",
      "from sklearn import svm\n",
      "from sklearn import tree\n",
      "\n",
      "_DATA_DIR = 'data'\n",
      "_NYT_DATA_PATH = os.path.join(_DATA_DIR, 'nyt_title_data.csv')\n",
      "\n",
      "_PLT_LEGEND_OPTIONS = dict(loc=\"upper center\", \n",
      "                           bbox_to_anchor=(0.5, -0.15),\n",
      "                           fancybox=True, \n",
      "                           shadow=True, \n",
      "                           ncol=3)"
     ],
     "language": "python",
     "metadata": {},
     "outputs": [],
     "prompt_number": 3
    },
    {
     "cell_type": "code",
     "collapsed": false,
     "input": [
      "\n",
      "def cv(X, y, clf, nfeats, clfname, n_folds=10):\n",
      "  stratified_k_fold = cross_validation.StratifiedKFold(y, n_folds=n_folds)\n",
      "  accuracy, ii = 0., 0\n",
      "  for train, test in stratified_k_fold:\n",
      "    ii += 1\n",
      "    X_train, X_test, y_train, y_test = X[train], X[test], y[train], y[test]\n",
      "    clf.fit(X_train, y_train)\n",
      "    y_pred = clf.predict(X_test)\n",
      "    score = metrics.accuracy_score(y_test, y_pred)\n",
      "    accuracy += score\n",
      "  accuracy /= float(n_folds)\n",
      "  return accuracy\n",
      "\n",
      "def plot_accuracies(accuracies, xvals, legends):\n",
      "  fig = plt.figure(figsize=(16, 12))\n",
      "  ax = fig.add_subplot(111)\n",
      "  cm = [color + marker for color in [\"b\", \"g\", \"r\", \"c\", \"m\", \"y\", \"b\"] for marker in [\"o\", \"D\"]]\n",
      "  for ii in range(0, accuracies.shape[0]):\n",
      "    ax.plot(xvals, accuracies[ii, :], color=cm[ii][0], marker=cm[ii][1], label=legends[ii])\n",
      "  plt.xlabel(\"Number of Features\")\n",
      "  plt.ylabel(\"Accuracy\")\n",
      "  plt.title(\"Accuracy vs Number of Features\")\n",
      "  ax.set_xscale(\"log\")\n",
      "  box = ax.get_position()\n",
      "  ax.set_position([box.x0, box.y0 + box.height * 0.3, box.width, box.height * 0.7])\n",
      "  ax.legend(**_PLT_LEGEND_OPTIONS)\n",
      "  plt.show()\n",
      "\n",
      "def estimator_name(clf):\n",
      "  return type(clf).__name__\n",
      "    \n",
      "def select_model(X, y):\n",
      "  n_features = np.array([10, 50, 100, 500, 5000, 50000])\n",
      "  clfs = [\n",
      "    naive_bayes.BernoulliNB(),\n",
      "    naive_bayes.MultinomialNB(),\n",
      "    naive_bayes.GaussianNB(),\n",
      "    tree.DecisionTreeClassifier(),\n",
      "    ensemble.RandomForestClassifier(n_estimators=10),\n",
      "    svm.LinearSVC(random_state=0),\n",
      "    linear_model.LogisticRegression(),\n",
      "    linear_model.SGDClassifier(),\n",
      "    linear_model.RidgeClassifier(),\n",
      "  ]\n",
      "  \n",
      "  classifier_names = map(estimator_name, clfs)\n",
      "  feature_selection_methods = [feature_selection.f_classif]\n",
      "  accuracies = np.zeros((len(clfs), len(n_features), len(feature_selection_methods)))\n",
      "  for kk in range(len(feature_selection_methods)):\n",
      "    X_feature_selected = X.copy().toarray()\n",
      "    for jj in range(len(n_features)):\n",
      "      for ii in range(len(clfs)):\n",
      "        accuracies[ii, jj, kk] = cv(X_feature_selected, y, clfs[ii], n_features[jj], classifier_names[ii])\n",
      "  for k in range(len(feature_selection_methods)):\n",
      "    for i in range(len(clfs)):\n",
      "      print \"%22s \" % classifier_names[i],\n",
      "      for j in range(accuracies.shape[1]):\n",
      "        print \"%5.3f\" % accuracies[i, j, k],\n",
      "      print\n",
      "    plot_accuracies(accuracies[:, :, k], n_features, classifier_names)\n",
      "  "
     ],
     "language": "python",
     "metadata": {},
     "outputs": [],
     "prompt_number": 4
    },
    {
     "cell_type": "code",
     "collapsed": false,
     "input": [
      "with open(_NYT_DATA_PATH) as nyt:\n",
      "    nyt_data = []\n",
      "    nyt_labels = []\n",
      "    csv_reader = csv.reader(nyt)\n",
      "    for line in csv_reader:\n",
      "      nyt_labels.append(int(line[0]))\n",
      "      nyt_data.append(line[1])"
     ],
     "language": "python",
     "metadata": {},
     "outputs": [],
     "prompt_number": 5
    },
    {
     "cell_type": "code",
     "collapsed": false,
     "input": [
      "X = np.array([''.join(el) for el in nyt_data])\n",
      "y = np.array([el for el in nyt_labels])\n",
      "\n",
      "\n",
      "vectorizer = text.TfidfVectorizer(min_df=2, \n",
      " ngram_range=(1, 2), \n",
      " stop_words='english', \n",
      " strip_accents='unicode', \n",
      " norm='l2')\n",
      " \n",
      "test_string = unicode(X[5])\n",
      "\n",
      "print(\"Example string:      {}\".format(test_string))\n",
      "print(\"Preprocessed string: {}\".format(vectorizer.build_preprocessor()(test_string)))\n",
      "print(\"Tokenized string:    {}\".format(str(vectorizer.build_tokenizer()(test_string))))\n",
      "print(\"N-gram data string:  {}\".format(str(vectorizer.build_analyzer()(test_string))))\n",
      " "
     ],
     "language": "python",
     "metadata": {},
     "outputs": [
      {
       "output_type": "stream",
       "stream": "stdout",
       "text": [
        "Example string:      Clinton Defends His Policies In Kosovo, China and Mexico\n",
        "Preprocessed string: clinton defends his policies in kosovo, china and mexico\n",
        "Tokenized string:    [u'Clinton', u'Defends', u'His', u'Policies', u'In', u'Kosovo', u'China', u'and', u'Mexico']\n",
        "N-gram data string:  [u'clinton', u'defends', u'policies', u'kosovo', u'china', u'mexico', u'clinton defends', u'defends policies', u'policies kosovo', u'kosovo china', u'china mexico']\n"
       ]
      }
     ],
     "prompt_number": 6
    },
    {
     "cell_type": "code",
     "collapsed": false,
     "input": [
      "X = vectorizer.fit_transform(X)\n"
     ],
     "language": "python",
     "metadata": {},
     "outputs": [],
     "prompt_number": 7
    },
    {
     "cell_type": "code",
     "collapsed": false,
     "input": [
      "select_model(X, y)"
     ],
     "language": "python",
     "metadata": {},
     "outputs": [
      {
       "ename": "NameError",
       "evalue": "global name 'feature_selection' is not defined",
       "output_type": "pyerr",
       "traceback": [
        "\u001b[0;31m---------------------------------------------------------------------------\u001b[0m\n\u001b[0;31mNameError\u001b[0m                                 Traceback (most recent call last)",
        "\u001b[0;32m<ipython-input-8-fa45aceb0f2b>\u001b[0m in \u001b[0;36m<module>\u001b[0;34m()\u001b[0m\n\u001b[0;32m----> 1\u001b[0;31m \u001b[0mselect_model\u001b[0m\u001b[0;34m(\u001b[0m\u001b[0mX\u001b[0m\u001b[0;34m,\u001b[0m \u001b[0my\u001b[0m\u001b[0;34m)\u001b[0m\u001b[0;34m\u001b[0m\u001b[0m\n\u001b[0m",
        "\u001b[0;32m<ipython-input-4-a5b4059d39b3>\u001b[0m in \u001b[0;36mselect_model\u001b[0;34m(X, y)\u001b[0m\n\u001b[1;32m     46\u001b[0m \u001b[0;34m\u001b[0m\u001b[0m\n\u001b[1;32m     47\u001b[0m   \u001b[0mclassifier_names\u001b[0m \u001b[0;34m=\u001b[0m \u001b[0mmap\u001b[0m\u001b[0;34m(\u001b[0m\u001b[0mestimator_name\u001b[0m\u001b[0;34m,\u001b[0m \u001b[0mclfs\u001b[0m\u001b[0;34m)\u001b[0m\u001b[0;34m\u001b[0m\u001b[0m\n\u001b[0;32m---> 48\u001b[0;31m   \u001b[0mfeature_selection_methods\u001b[0m \u001b[0;34m=\u001b[0m \u001b[0;34m[\u001b[0m\u001b[0mfeature_selection\u001b[0m\u001b[0;34m.\u001b[0m\u001b[0mf_classif\u001b[0m\u001b[0;34m]\u001b[0m\u001b[0;34m\u001b[0m\u001b[0m\n\u001b[0m\u001b[1;32m     49\u001b[0m   \u001b[0maccuracies\u001b[0m \u001b[0;34m=\u001b[0m \u001b[0mnp\u001b[0m\u001b[0;34m.\u001b[0m\u001b[0mzeros\u001b[0m\u001b[0;34m(\u001b[0m\u001b[0;34m(\u001b[0m\u001b[0mlen\u001b[0m\u001b[0;34m(\u001b[0m\u001b[0mclfs\u001b[0m\u001b[0;34m)\u001b[0m\u001b[0;34m,\u001b[0m \u001b[0mlen\u001b[0m\u001b[0;34m(\u001b[0m\u001b[0mn_features\u001b[0m\u001b[0;34m)\u001b[0m\u001b[0;34m,\u001b[0m \u001b[0mlen\u001b[0m\u001b[0;34m(\u001b[0m\u001b[0mfeature_selection_methods\u001b[0m\u001b[0;34m)\u001b[0m\u001b[0;34m)\u001b[0m\u001b[0;34m)\u001b[0m\u001b[0;34m\u001b[0m\u001b[0m\n\u001b[1;32m     50\u001b[0m   \u001b[0;32mfor\u001b[0m \u001b[0mkk\u001b[0m \u001b[0;32min\u001b[0m \u001b[0mrange\u001b[0m\u001b[0;34m(\u001b[0m\u001b[0mlen\u001b[0m\u001b[0;34m(\u001b[0m\u001b[0mfeature_selection_methods\u001b[0m\u001b[0;34m)\u001b[0m\u001b[0;34m)\u001b[0m\u001b[0;34m:\u001b[0m\u001b[0;34m\u001b[0m\u001b[0m\n",
        "\u001b[0;31mNameError\u001b[0m: global name 'feature_selection' is not defined"
       ]
      }
     ],
     "prompt_number": 8
    },
    {
     "cell_type": "code",
     "collapsed": false,
     "input": [],
     "language": "python",
     "metadata": {},
     "outputs": []
    }
   ],
   "metadata": {}
  }
 ]
}