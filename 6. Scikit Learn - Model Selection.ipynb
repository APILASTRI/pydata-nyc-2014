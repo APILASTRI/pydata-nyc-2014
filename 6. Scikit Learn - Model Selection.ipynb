{
 "metadata": {
  "name": "",
  "signature": "sha256:83e8379065ae772fad9085f61cadd4dfdc17a08d949fbc388a1ada84e1bace01"
 },
 "nbformat": 3,
 "nbformat_minor": 0,
 "worksheets": [
  {
   "cells": [
    {
     "cell_type": "code",
     "collapsed": false,
     "input": [
      "%matplotlib inline\n",
      "import csv\n",
      "import matplotlib.pyplot as plt\n",
      "import numpy as np\n",
      "import os\n",
      "from sklearn import cross_validation\n",
      "from sklearn import ensemble\n",
      "from sklearn.feature_extraction import text\n",
      "from sklearn import feature_extraction\n",
      "from sklearn import linear_model\n",
      "from sklearn import metrics\n",
      "from sklearn import naive_bayes\n",
      "from sklearn import svm\n",
      "from sklearn import tree\n",
      "\n",
      "_DATA_DIR = 'data'\n",
      "_NYT_DATA_PATH = os.path.join(_DATA_DIR, 'nyt_title_data.csv')"
     ],
     "language": "python",
     "metadata": {},
     "outputs": [],
     "prompt_number": 33
    },
    {
     "cell_type": "code",
     "collapsed": false,
     "input": [
      "\n",
      "def cv(X, y, clf, nfeats, clfname, n_folds=10):\n",
      "  stratified_k_fold = cross_validation.StratifiedKFold(y, n_folds=n_folds)\n",
      "  acc = 0\n",
      "  ii = 0\n",
      "  print(\"{} (#-features={})...\".format(clfname, nfeats))\n",
      "  for train, test in stratified_k_fold:\n",
      "    ii += 1\n",
      "    Xtrain, Xtest, ytrain, ytest = X[train], X[test], y[train], y[test]\n",
      "    print(Xtrain.shape)\n",
      "    clf.fit(Xtrain, ytrain)\n",
      "    ypred = clf.predict(Xtest)\n",
      "    score = metrics.accuracy_score(ytest, ypred)\n",
      "    print(\"  Fold #{}, accuracy={}\".format(ii, score))\n",
      "    acc += score\n",
      "  acc /= n_folds\n",
      "  print(\"## {} (#-features={}) accuracy={}\".format(clfname, nfeats, acc))\n",
      "  return acc\n",
      "\n",
      "def plot_accuracies(accuracies, xvals, legends):\n",
      "  fig = plt.figure()\n",
      "  ax = fig.add_subplot(111)\n",
      "  cm = [color + marker for color in [\"b\", \"g\", \"r\", \"c\", \"m\", \"y\", \"b\"] for marker in [\"o\", \"D\"]]\n",
      "  for ii in range(0, accuracies.shape[0]):\n",
      "    ax.plot(xvals, accuracies[ii, :], color=cm[ii][0], \n",
      "      marker=cm[ii][1], label=legends[ii])\n",
      "  plt.xlabel(\"#-Features\")\n",
      "  plt.ylabel(\"Accuracy\")\n",
      "  plt.title(\"Accuracy vs #-Features for different classifiers\")\n",
      "  ax.set_xscale(\"log\")\n",
      "  box = ax.get_position()\n",
      "  ax.set_position([box.x0, box.y0 + box.height * 0.3,\n",
      "    box.width, box.height * 0.7])\n",
      "  ax.legend(loc=\"upper center\", bbox_to_anchor=(0.5, -0.15),\n",
      "    fancybox=True, shadow=True, ncol=3)\n",
      "  plt.show()\n",
      "\n",
      "def estimator_name(clf):\n",
      "        return type(clf).__name__\n",
      "    \n",
      "def select_model(X, y):\n",
      "  n_features = np.array([10, 50, 100, 500, 5000, 50000])\n",
      "  clfs = [\n",
      "    naive_bayes.BernoulliNB(),\n",
      "    naive_bayes.MultinomialNB(),\n",
      "    naive_bayes.GaussianNB(),\n",
      "    tree.DecisionTreeClassifier(),\n",
      "    ensemble.RandomForestClassifier(n_estimators=10),\n",
      "    svm.LinearSVC(random_state=0),\n",
      "    linear_model.LogisticRegression(),\n",
      "    linear_model.SGDClassifier(),\n",
      "    linear_model.RidgeClassifier(),\n",
      "  ]\n",
      "  \n",
      "  classifier_names = map(estimator_name, clfs)\n",
      "  feature_selection_methods = [feature_selection.f_classif]\n",
      "#  feature_selection_methods = [feature_selection.chi2, feature_selection.f_classif]\n",
      "  accuracies = np.zeros((len(clfs), len(n_features), len(feature_selection_methods)))\n",
      "  for kk in range(len(feature_selection_methods)):\n",
      "    X_feature_selected = X.copy().toarray()\n",
      "    for jj in range(len(n_features)):\n",
      "      #feature_sel = feature_selection.SelectKBest(score_func=feature_selection_methods[kk], k=n_features[jj])\n",
      "      #X_feature_selected = feature_sel.fit_transform(X, y)\n",
      "      for ii in range(len(clfs)):\n",
      "        accuracies[ii, jj, kk] = cv(X_feature_selected, y, clfs[ii], n_features[jj], classifier_names[ii])\n",
      "  # print out accuracy matrix\n",
      "  for k in range(len(feature_selection_methods)):\n",
      "    for i in range(len(clfs)):\n",
      "      print \"%22s \" % classifier_names[i],\n",
      "      for j in range(accuracies.shape[1]):\n",
      "        print \"%5.3f\" % accuracies[i, j, k],\n",
      "      print\n",
      "    plot_accuracies(accuracies[:, :, k], n_features, classifier_names)\n",
      "  "
     ],
     "language": "python",
     "metadata": {},
     "outputs": [],
     "prompt_number": 57
    },
    {
     "cell_type": "code",
     "collapsed": false,
     "input": [
      "with open(_NYT_DATA_PATH) as nyt:\n",
      "    nyt_data = []\n",
      "    nyt_labels = []\n",
      "    csv_reader = csv.reader(nyt)\n",
      "\n",
      "    for line in csv_reader:\n",
      "     nyt_labels.append(int(line[0]))\n",
      "     nyt_data.append(line[1])"
     ],
     "language": "python",
     "metadata": {},
     "outputs": [],
     "prompt_number": 18
    },
    {
     "cell_type": "code",
     "collapsed": false,
     "input": [
      "X = np.array([''.join(el) for el in nyt_data])\n",
      "y = np.array([el for el in nyt_labels])\n",
      "\n",
      "\n",
      "vectorizer = text.TfidfVectorizer(min_df=2, \n",
      " ngram_range=(1, 2), \n",
      " stop_words='english', \n",
      " strip_accents='unicode', \n",
      " norm='l2')\n",
      " \n",
      "test_string = unicode(X[5])\n",
      "\n",
      "print \"Example string: \" + test_string\n",
      "print \"Preprocessed string: \" + vectorizer.build_preprocessor()(test_string)\n",
      "print \"Tokenized string:\" + str(vectorizer.build_tokenizer()(test_string))\n",
      "print \"N-gram data string:\" + str(vectorizer.build_analyzer()(test_string))\n",
      "print \"\\n\"\n",
      " "
     ],
     "language": "python",
     "metadata": {},
     "outputs": [
      {
       "output_type": "stream",
       "stream": "stdout",
       "text": [
        "Example string: Clinton Defends His Policies In Kosovo, China and Mexico\n",
        "Preprocessed string: clinton defends his policies in kosovo, china and mexico\n",
        "Tokenized string:[u'Clinton', u'Defends', u'His', u'Policies', u'In', u'Kosovo', u'China', u'and', u'Mexico']\n",
        "N-gram data string:[u'clinton', u'defends', u'policies', u'kosovo', u'china', u'mexico', u'clinton defends', u'defends policies', u'policies kosovo', u'kosovo china', u'china mexico']\n",
        "\n",
        "\n"
       ]
      }
     ],
     "prompt_number": 32
    },
    {
     "cell_type": "code",
     "collapsed": false,
     "input": [
      "X = vectorizer.fit_transform(X)\n"
     ],
     "language": "python",
     "metadata": {},
     "outputs": [],
     "prompt_number": 51
    },
    {
     "cell_type": "code",
     "collapsed": false,
     "input": [
      "select_model(X, y)"
     ],
     "language": "python",
     "metadata": {},
     "outputs": [
      {
       "output_type": "stream",
       "stream": "stdout",
       "text": [
        "BernoulliNB (#-features=10)...\n",
        "(1940, 2171)"
       ]
      },
      {
       "output_type": "stream",
       "stream": "stdout",
       "text": [
        "\n",
        "  Fold #1, accuracy=0.515837104072"
       ]
      },
      {
       "output_type": "stream",
       "stream": "stdout",
       "text": [
        "\n",
        "(1941, 2171)"
       ]
      },
      {
       "output_type": "stream",
       "stream": "stdout",
       "text": [
        "\n",
        "  Fold #2, accuracy=0.5"
       ]
      },
      {
       "output_type": "stream",
       "stream": "stdout",
       "text": [
        "\n",
        "(1943, 2171)\n",
        "  Fold #3, accuracy=0.522935779817"
       ]
      },
      {
       "output_type": "stream",
       "stream": "stdout",
       "text": [
        "\n",
        "(1944, 2171)"
       ]
      },
      {
       "output_type": "stream",
       "stream": "stdout",
       "text": [
        "\n",
        "  Fold #4, accuracy=0.566820276498"
       ]
      },
      {
       "output_type": "stream",
       "stream": "stdout",
       "text": [
        "\n",
        "(1946, 2171)"
       ]
      },
      {
       "output_type": "stream",
       "stream": "stdout",
       "text": [
        "\n",
        "  Fold #5, accuracy=0.53488372093"
       ]
      },
      {
       "output_type": "stream",
       "stream": "stdout",
       "text": [
        "\n",
        "(1947, 2171)\n",
        "  Fold #6, accuracy=0.523364485981"
       ]
      },
      {
       "output_type": "stream",
       "stream": "stdout",
       "text": [
        "\n",
        "(1947, 2171)\n",
        "  Fold #7, accuracy=0.546728971963"
       ]
      },
      {
       "output_type": "stream",
       "stream": "stdout",
       "text": [
        "\n",
        "(1947, 2171)\n",
        "  Fold #8, accuracy=0.546728971963"
       ]
      },
      {
       "output_type": "stream",
       "stream": "stdout",
       "text": [
        "\n",
        "(1947, 2171)\n",
        "  Fold #9, accuracy=0.514018691589"
       ]
      },
      {
       "output_type": "stream",
       "stream": "stdout",
       "text": [
        "\n",
        "(1947, 2171)\n",
        "  Fold #10, accuracy=0.509345794393"
       ]
      },
      {
       "output_type": "stream",
       "stream": "stdout",
       "text": [
        "\n",
        "## BernoulliNB (#-features=10) accuracy=0.52806637972\n",
        "MultinomialNB (#-features=10)...\n",
        "(1940, 2171)\n",
        "  Fold #1, accuracy=0.570135746606\n",
        "(1941, 2171)"
       ]
      },
      {
       "output_type": "stream",
       "stream": "stdout",
       "text": [
        "\n",
        "  Fold #2, accuracy=0.55\n",
        "(1943, 2171)\n",
        "  Fold #3, accuracy=0.582568807339"
       ]
      },
      {
       "output_type": "stream",
       "stream": "stdout",
       "text": [
        "\n",
        "(1944, 2171)\n",
        "  Fold #4, accuracy=0.603686635945\n",
        "(1946, 2171)"
       ]
      },
      {
       "output_type": "stream",
       "stream": "stdout",
       "text": [
        "\n",
        "  Fold #5, accuracy=0.613953488372\n",
        "(1947, 2171)\n",
        "  Fold #6, accuracy=0.570093457944"
       ]
      },
      {
       "output_type": "stream",
       "stream": "stdout",
       "text": [
        "\n",
        "(1947, 2171)\n",
        "  Fold #7, accuracy=0.560747663551\n",
        "(1947, 2171)"
       ]
      },
      {
       "output_type": "stream",
       "stream": "stdout",
       "text": [
        "\n",
        "  Fold #8, accuracy=0.602803738318\n",
        "(1947, 2171)\n",
        "  Fold #9, accuracy=0.593457943925"
       ]
      },
      {
       "output_type": "stream",
       "stream": "stdout",
       "text": [
        "\n",
        "(1947, 2171)\n",
        "  Fold #10, accuracy=0.565420560748\n",
        "## MultinomialNB (#-features=10) accuracy=0.581286804275\n",
        "GaussianNB (#-features=10)..."
       ]
      },
      {
       "output_type": "stream",
       "stream": "stdout",
       "text": [
        "\n",
        "(1940, 2171)\n",
        "  Fold #1, accuracy=0.565610859729"
       ]
      },
      {
       "output_type": "stream",
       "stream": "stdout",
       "text": [
        "\n",
        "(1941, 2171)\n",
        "  Fold #2, accuracy=0.518181818182"
       ]
      },
      {
       "output_type": "stream",
       "stream": "stdout",
       "text": [
        "\n",
        "(1943, 2171)\n",
        "  Fold #3, accuracy=0.56880733945"
       ]
      },
      {
       "output_type": "stream",
       "stream": "stdout",
       "text": [
        "\n",
        "(1944, 2171)\n",
        "  Fold #4, accuracy=0.506912442396"
       ]
      },
      {
       "output_type": "stream",
       "stream": "stdout",
       "text": [
        "\n",
        "(1946, 2171)\n",
        "  Fold #5, accuracy=0.586046511628"
       ]
      },
      {
       "output_type": "stream",
       "stream": "stdout",
       "text": [
        "\n",
        "(1947, 2171)\n",
        "  Fold #6, accuracy=0.556074766355"
       ]
      },
      {
       "output_type": "stream",
       "stream": "stdout",
       "text": [
        "\n",
        "(1947, 2171)\n",
        "  Fold #7, accuracy=0.556074766355"
       ]
      },
      {
       "output_type": "stream",
       "stream": "stdout",
       "text": [
        "\n",
        "(1947, 2171)\n",
        "  Fold #8, accuracy=0.5"
       ]
      },
      {
       "output_type": "stream",
       "stream": "stdout",
       "text": [
        "\n",
        "(1947, 2171)\n",
        "  Fold #9, accuracy=0.579439252336"
       ]
      },
      {
       "output_type": "stream",
       "stream": "stdout",
       "text": [
        "\n",
        "(1947, 2171)\n",
        "  Fold #10, accuracy=0.556074766355"
       ]
      },
      {
       "output_type": "stream",
       "stream": "stdout",
       "text": [
        "\n",
        "## GaussianNB (#-features=10) accuracy=0.549322252279\n",
        "DecisionTreeClassifier (#-features=10)...\n",
        "(1940, 2171)\n",
        "  Fold #1, accuracy=0.565610859729"
       ]
      },
      {
       "output_type": "stream",
       "stream": "stdout",
       "text": [
        "\n",
        "(1941, 2171)\n",
        "  Fold #2, accuracy=0.468181818182"
       ]
      },
      {
       "output_type": "stream",
       "stream": "stdout",
       "text": [
        "\n",
        "(1943, 2171)\n",
        "  Fold #3, accuracy=0.51376146789"
       ]
      },
      {
       "output_type": "stream",
       "stream": "stdout",
       "text": [
        "\n",
        "(1944, 2171)\n",
        "  Fold #4, accuracy=0.497695852535"
       ]
      },
      {
       "output_type": "stream",
       "stream": "stdout",
       "text": [
        "\n",
        "(1946, 2171)\n",
        "  Fold #5, accuracy=0.572093023256"
       ]
      },
      {
       "output_type": "stream",
       "stream": "stdout",
       "text": [
        "\n",
        "(1947, 2171)\n",
        "  Fold #6, accuracy=0.528037383178"
       ]
      },
      {
       "output_type": "stream",
       "stream": "stdout",
       "text": [
        "\n",
        "(1947, 2171)\n",
        "  Fold #7, accuracy=0.528037383178"
       ]
      },
      {
       "output_type": "stream",
       "stream": "stdout",
       "text": [
        "\n",
        "(1947, 2171)\n",
        "  Fold #8, accuracy=0.532710280374"
       ]
      },
      {
       "output_type": "stream",
       "stream": "stdout",
       "text": [
        "\n",
        "(1947, 2171)\n",
        "  Fold #9, accuracy=0.490654205607"
       ]
      },
      {
       "output_type": "stream",
       "stream": "stdout",
       "text": [
        "\n",
        "(1947, 2171)\n",
        "  Fold #10, accuracy=0.514018691589"
       ]
      },
      {
       "output_type": "stream",
       "stream": "stdout",
       "text": [
        "\n",
        "## DecisionTreeClassifier (#-features=10) accuracy=0.521080096552\n",
        "RandomForestClassifier (#-features=10)...\n",
        "(1940, 2171)\n",
        "  Fold #1, accuracy=0.597285067873"
       ]
      },
      {
       "output_type": "stream",
       "stream": "stdout",
       "text": [
        "\n",
        "(1941, 2171)\n",
        "  Fold #2, accuracy=0.522727272727"
       ]
      },
      {
       "output_type": "stream",
       "stream": "stdout",
       "text": [
        "\n",
        "(1943, 2171)\n",
        "  Fold #3, accuracy=0.596330275229"
       ]
      },
      {
       "output_type": "stream",
       "stream": "stdout",
       "text": [
        "\n",
        "(1944, 2171)\n",
        "  Fold #4, accuracy=0.552995391705"
       ]
      },
      {
       "output_type": "stream",
       "stream": "stdout",
       "text": [
        "\n",
        "(1946, 2171)\n",
        "  Fold #5, accuracy=0.641860465116"
       ]
      },
      {
       "output_type": "stream",
       "stream": "stdout",
       "text": [
        "\n",
        "(1947, 2171)\n",
        "  Fold #6, accuracy=0.593457943925"
       ]
      },
      {
       "output_type": "stream",
       "stream": "stdout",
       "text": [
        "\n",
        "(1947, 2171)"
       ]
      },
      {
       "output_type": "stream",
       "stream": "stdout",
       "text": [
        "\n",
        "  Fold #7, accuracy=0.584112149533"
       ]
      },
      {
       "output_type": "stream",
       "stream": "stdout",
       "text": [
        "\n",
        "(1947, 2171)\n",
        "  Fold #8, accuracy=0.57476635514"
       ]
      },
      {
       "output_type": "stream",
       "stream": "stdout",
       "text": [
        "\n",
        "(1947, 2171)\n",
        "  Fold #9, accuracy=0.644859813084"
       ]
      },
      {
       "output_type": "stream",
       "stream": "stdout",
       "text": [
        "\n",
        "(1947, 2171)\n",
        "  Fold #10, accuracy=0.57476635514"
       ]
      },
      {
       "output_type": "stream",
       "stream": "stdout",
       "text": [
        "\n",
        "## RandomForestClassifier (#-features=10) accuracy=0.588316108947\n",
        "LinearSVC (#-features=10)...\n",
        "(1940, 2171)\n",
        "  Fold #1, accuracy=0.665158371041"
       ]
      },
      {
       "output_type": "stream",
       "stream": "stdout",
       "text": [
        "\n",
        "(1941, 2171)\n",
        "  Fold #2, accuracy=0.613636363636"
       ]
      },
      {
       "output_type": "stream",
       "stream": "stdout",
       "text": [
        "\n",
        "(1943, 2171)\n",
        "  Fold #3, accuracy=0.701834862385"
       ]
      },
      {
       "output_type": "stream",
       "stream": "stdout",
       "text": [
        "\n",
        "(1944, 2171)\n",
        "  Fold #4, accuracy=0.635944700461"
       ]
      },
      {
       "output_type": "stream",
       "stream": "stdout",
       "text": [
        "\n",
        "(1946, 2171)\n",
        "  Fold #5, accuracy=0.73488372093"
       ]
      },
      {
       "output_type": "stream",
       "stream": "stdout",
       "text": [
        "\n",
        "(1947, 2171)\n",
        "  Fold #6, accuracy=0.682242990654"
       ]
      },
      {
       "output_type": "stream",
       "stream": "stdout",
       "text": [
        "\n",
        "(1947, 2171)\n",
        "  Fold #7, accuracy=0.691588785047"
       ]
      },
      {
       "output_type": "stream",
       "stream": "stdout",
       "text": [
        "\n",
        "(1947, 2171)\n",
        "  Fold #8, accuracy=0.64953271028"
       ]
      },
      {
       "output_type": "stream",
       "stream": "stdout",
       "text": [
        "\n",
        "(1947, 2171)\n",
        "  Fold #9, accuracy=0.714953271028"
       ]
      },
      {
       "output_type": "stream",
       "stream": "stdout",
       "text": [
        "\n",
        "(1947, 2171)\n",
        "  Fold #10, accuracy=0.621495327103"
       ]
      },
      {
       "output_type": "stream",
       "stream": "stdout",
       "text": [
        "\n",
        "## LinearSVC (#-features=10) accuracy=0.671127110257\n",
        "LogisticRegression (#-features=10)...\n",
        "(1940, 2171)\n",
        "  Fold #1, accuracy=0.592760180995"
       ]
      },
      {
       "output_type": "stream",
       "stream": "stdout",
       "text": [
        "\n",
        "(1941, 2171)\n",
        "  Fold #2, accuracy=0.545454545455"
       ]
      },
      {
       "output_type": "stream",
       "stream": "stdout",
       "text": [
        "\n",
        "(1943, 2171)\n",
        "  Fold #3, accuracy=0.605504587156"
       ]
      },
      {
       "output_type": "stream",
       "stream": "stdout",
       "text": [
        "\n",
        "(1944, 2171)\n",
        "  Fold #4, accuracy=0.612903225806"
       ]
      },
      {
       "output_type": "stream",
       "stream": "stdout",
       "text": [
        "\n",
        "(1946, 2171)\n",
        "  Fold #5, accuracy=0.604651162791"
       ]
      },
      {
       "output_type": "stream",
       "stream": "stdout",
       "text": [
        "\n",
        "(1947, 2171)\n",
        "  Fold #6, accuracy=0.565420560748"
       ]
      },
      {
       "output_type": "stream",
       "stream": "stdout",
       "text": [
        "\n",
        "(1947, 2171)\n",
        "  Fold #7, accuracy=0.57476635514"
       ]
      },
      {
       "output_type": "stream",
       "stream": "stdout",
       "text": [
        "\n",
        "(1947, 2171)\n",
        "  Fold #8, accuracy=0.593457943925"
       ]
      },
      {
       "output_type": "stream",
       "stream": "stdout",
       "text": [
        "\n",
        "(1947, 2171)\n",
        "  Fold #9, accuracy=0.57476635514"
       ]
      },
      {
       "output_type": "stream",
       "stream": "stdout",
       "text": [
        "\n",
        "(1947, 2171)\n",
        "  Fold #10, accuracy=0.556074766355"
       ]
      },
      {
       "output_type": "stream",
       "stream": "stdout",
       "text": [
        "\n",
        "## LogisticRegression (#-features=10) accuracy=0.582575968351\n",
        "SGDClassifier (#-features=10)...\n",
        "(1940, 2171)\n",
        "  Fold #1, accuracy=0.606334841629"
       ]
      },
      {
       "output_type": "stream",
       "stream": "stdout",
       "text": [
        "\n",
        "(1941, 2171)\n",
        "  Fold #2, accuracy=0.545454545455"
       ]
      },
      {
       "output_type": "stream",
       "stream": "stdout",
       "text": [
        "\n",
        "(1943, 2171)\n",
        "  Fold #3, accuracy=0.633027522936"
       ]
      },
      {
       "output_type": "stream",
       "stream": "stdout",
       "text": [
        "\n",
        "(1944, 2171)\n",
        "  Fold #4, accuracy=0.622119815668"
       ]
      },
      {
       "output_type": "stream",
       "stream": "stdout",
       "text": [
        "\n",
        "(1946, 2171)\n",
        "  Fold #5, accuracy=0.651162790698"
       ]
      },
      {
       "output_type": "stream",
       "stream": "stdout",
       "text": [
        "\n",
        "(1947, 2171)\n",
        "  Fold #6, accuracy=0.584112149533"
       ]
      },
      {
       "output_type": "stream",
       "stream": "stdout",
       "text": [
        "\n",
        "(1947, 2171)\n",
        "  Fold #7, accuracy=0.677570093458"
       ]
      },
      {
       "output_type": "stream",
       "stream": "stdout",
       "text": [
        "\n",
        "(1947, 2171)\n",
        "  Fold #8, accuracy=0.584112149533"
       ]
      },
      {
       "output_type": "stream",
       "stream": "stdout",
       "text": [
        "\n",
        "(1947, 2171)\n",
        "  Fold #9, accuracy=0.61214953271"
       ]
      },
      {
       "output_type": "stream",
       "stream": "stdout",
       "text": [
        "\n",
        "(1947, 2171)\n",
        "  Fold #10, accuracy=0.560747663551"
       ]
      },
      {
       "output_type": "stream",
       "stream": "stdout",
       "text": [
        "\n",
        "## SGDClassifier (#-features=10) accuracy=0.607679110517\n",
        "RidgeClassifier (#-features=10)...\n",
        "(1940, 2171)\n",
        "  Fold #1, accuracy=0.651583710407"
       ]
      },
      {
       "output_type": "stream",
       "stream": "stdout",
       "text": [
        "\n",
        "(1941, 2171)\n",
        "  Fold #2, accuracy=0.618181818182"
       ]
      },
      {
       "output_type": "stream",
       "stream": "stdout",
       "text": [
        "\n",
        "(1943, 2171)\n",
        "  Fold #3, accuracy=0.692660550459"
       ]
      },
      {
       "output_type": "stream",
       "stream": "stdout",
       "text": [
        "\n",
        "(1944, 2171)\n",
        "  Fold #4, accuracy=0.658986175115"
       ]
      },
      {
       "output_type": "stream",
       "stream": "stdout",
       "text": [
        "\n",
        "(1946, 2171)\n",
        "  Fold #5, accuracy=0.744186046512"
       ]
      },
      {
       "output_type": "stream",
       "stream": "stdout",
       "text": [
        "\n",
        "(1947, 2171)\n",
        "  Fold #6, accuracy=0.696261682243"
       ]
      },
      {
       "output_type": "stream",
       "stream": "stdout",
       "text": [
        "\n",
        "(1947, 2171)\n",
        "  Fold #7, accuracy=0.700934579439"
       ]
      },
      {
       "output_type": "stream",
       "stream": "stdout",
       "text": [
        "\n",
        "(1947, 2171)\n",
        "  Fold #8, accuracy=0.672897196262"
       ]
      },
      {
       "output_type": "stream",
       "stream": "stdout",
       "text": [
        "\n",
        "(1947, 2171)\n",
        "  Fold #9, accuracy=0.733644859813"
       ]
      },
      {
       "output_type": "stream",
       "stream": "stdout",
       "text": [
        "\n",
        "(1947, 2171)\n",
        "  Fold #10, accuracy=0.621495327103"
       ]
      },
      {
       "output_type": "stream",
       "stream": "stdout",
       "text": [
        "\n",
        "## RidgeClassifier (#-features=10) accuracy=0.679083194553\n",
        "BernoulliNB (#-features=50)...\n",
        "(1940, 2171)\n",
        "  Fold #1, accuracy=0.515837104072"
       ]
      },
      {
       "output_type": "stream",
       "stream": "stdout",
       "text": [
        "\n",
        "(1941, 2171)\n",
        "  Fold #2, accuracy=0.5"
       ]
      },
      {
       "output_type": "stream",
       "stream": "stdout",
       "text": [
        "\n",
        "(1943, 2171)\n",
        "  Fold #3, accuracy=0.522935779817"
       ]
      },
      {
       "output_type": "stream",
       "stream": "stdout",
       "text": [
        "\n",
        "(1944, 2171)\n",
        "  Fold #4, accuracy=0.566820276498"
       ]
      },
      {
       "output_type": "stream",
       "stream": "stdout",
       "text": [
        "\n",
        "(1946, 2171)\n",
        "  Fold #5, accuracy=0.53488372093"
       ]
      },
      {
       "output_type": "stream",
       "stream": "stdout",
       "text": [
        "\n",
        "(1947, 2171)\n",
        "  Fold #6, accuracy=0.523364485981"
       ]
      },
      {
       "output_type": "stream",
       "stream": "stdout",
       "text": [
        "\n",
        "(1947, 2171)\n",
        "  Fold #7, accuracy=0.546728971963"
       ]
      },
      {
       "output_type": "stream",
       "stream": "stdout",
       "text": [
        "\n",
        "(1947, 2171)\n",
        "  Fold #8, accuracy=0.546728971963"
       ]
      },
      {
       "output_type": "stream",
       "stream": "stdout",
       "text": [
        "\n",
        "(1947, 2171)\n",
        "  Fold #9, accuracy=0.514018691589"
       ]
      },
      {
       "output_type": "stream",
       "stream": "stdout",
       "text": [
        "\n",
        "(1947, 2171)\n",
        "  Fold #10, accuracy=0.509345794393"
       ]
      },
      {
       "output_type": "stream",
       "stream": "stdout",
       "text": [
        "\n",
        "## BernoulliNB (#-features=50) accuracy=0.52806637972\n",
        "MultinomialNB (#-features=50)...\n",
        "(1940, 2171)\n",
        "  Fold #1, accuracy=0.570135746606"
       ]
      },
      {
       "output_type": "stream",
       "stream": "stdout",
       "text": [
        "\n",
        "(1941, 2171)\n",
        "  Fold #2, accuracy=0.55\n",
        "(1943, 2171)"
       ]
      },
      {
       "output_type": "stream",
       "stream": "stdout",
       "text": [
        "\n",
        "  Fold #3, accuracy=0.582568807339\n",
        "(1944, 2171)\n",
        "  Fold #4, accuracy=0.603686635945"
       ]
      },
      {
       "output_type": "stream",
       "stream": "stdout",
       "text": [
        "\n",
        "(1946, 2171)\n",
        "  Fold #5, accuracy=0.613953488372\n",
        "(1947, 2171)"
       ]
      },
      {
       "output_type": "stream",
       "stream": "stdout",
       "text": [
        "\n",
        "  Fold #6, accuracy=0.570093457944\n",
        "(1947, 2171)\n",
        "  Fold #7, accuracy=0.560747663551"
       ]
      },
      {
       "output_type": "stream",
       "stream": "stdout",
       "text": [
        "\n",
        "(1947, 2171)\n",
        "  Fold #8, accuracy=0.602803738318\n",
        "(1947, 2171)\n",
        "  Fold #9, accuracy=0.593457943925"
       ]
      },
      {
       "output_type": "stream",
       "stream": "stdout",
       "text": [
        "\n",
        "(1947, 2171)\n",
        "  Fold #10, accuracy=0.565420560748\n",
        "## MultinomialNB (#-features=50) accuracy=0.581286804275\n",
        "GaussianNB (#-features=50)...\n",
        "(1940, 2171)"
       ]
      },
      {
       "output_type": "stream",
       "stream": "stdout",
       "text": [
        "\n",
        "  Fold #1, accuracy=0.565610859729"
       ]
      },
      {
       "output_type": "stream",
       "stream": "stdout",
       "text": [
        "\n",
        "(1941, 2171)\n",
        "  Fold #2, accuracy=0.518181818182"
       ]
      },
      {
       "output_type": "stream",
       "stream": "stdout",
       "text": [
        "\n",
        "(1943, 2171)\n",
        "  Fold #3, accuracy=0.56880733945"
       ]
      },
      {
       "output_type": "stream",
       "stream": "stdout",
       "text": [
        "\n",
        "(1944, 2171)\n",
        "  Fold #4, accuracy=0.506912442396"
       ]
      },
      {
       "output_type": "stream",
       "stream": "stdout",
       "text": [
        "\n",
        "(1946, 2171)\n",
        "  Fold #5, accuracy=0.586046511628"
       ]
      },
      {
       "output_type": "stream",
       "stream": "stdout",
       "text": [
        "\n",
        "(1947, 2171)\n",
        "  Fold #6, accuracy=0.556074766355"
       ]
      },
      {
       "output_type": "stream",
       "stream": "stdout",
       "text": [
        "\n",
        "(1947, 2171)\n",
        "  Fold #7, accuracy=0.556074766355"
       ]
      },
      {
       "output_type": "stream",
       "stream": "stdout",
       "text": [
        "\n",
        "(1947, 2171)\n",
        "  Fold #8, accuracy=0.5"
       ]
      },
      {
       "output_type": "stream",
       "stream": "stdout",
       "text": [
        "\n",
        "(1947, 2171)\n",
        "  Fold #9, accuracy=0.579439252336"
       ]
      },
      {
       "output_type": "stream",
       "stream": "stdout",
       "text": [
        "\n",
        "(1947, 2171)\n",
        "  Fold #10, accuracy=0.556074766355"
       ]
      },
      {
       "output_type": "stream",
       "stream": "stdout",
       "text": [
        "\n",
        "## GaussianNB (#-features=50) accuracy=0.549322252279\n",
        "DecisionTreeClassifier (#-features=50)...\n",
        "(1940, 2171)\n",
        "  Fold #1, accuracy=0.542986425339"
       ]
      }
     ]
    },
    {
     "cell_type": "code",
     "collapsed": false,
     "input": [],
     "language": "python",
     "metadata": {},
     "outputs": []
    }
   ],
   "metadata": {}
  }
 ]
}